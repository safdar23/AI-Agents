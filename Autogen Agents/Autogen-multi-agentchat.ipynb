{
  "cells": [
    {
      "cell_type": "markdown",
      "source": [
        "# Autogen Agents with Azure Cognitive Search, Azure Bing Search \n",
        "\n",
        "This notebook demonstrates the use of AI AutoGen Agents with tools which use Azure Cognitive Search and Bing Search to extract data.This notebook uses multi-agent communication and also switches between the agents based on the customer ask\n"
      ],
      "metadata": {}
    },
    {
      "cell_type": "markdown",
      "source": [
        "## Login to Azure:\n",
        "   "
      ],
      "metadata": {}
    },
    {
      "cell_type": "code",
      "source": [
        "# Check Azure CLI installation and login status\n",
        "#!az --version\n",
        "#!az login"
      ],
      "outputs": [],
      "execution_count": null,
      "metadata": {
        "gather": {
          "logged": 1718819048283
        }
      }
    },
    {
      "cell_type": "markdown",
      "source": [
        "## Install required packages\n",
        "Run the cell below to install the required packages for this notebook.\n",
        "\n"
      ],
      "metadata": {}
    },
    {
      "cell_type": "code",
      "source": [
        "\n",
        "%pip install python-dotenv --quiet\n",
        "%pip install pyautogen --quiet\n",
        "%pip install azure-search-documents --quiet\n",
        "%pip install azure-identity --quiet\n",
        "%pip install python-dotenv --quiet\n",
        "%pip install typing-extensions==4.7 --quiet\n"
      ],
      "outputs": [],
      "execution_count": null,
      "metadata": {
        "gather": {
          "logged": 1719338401046
        }
      }
    },
    {
      "cell_type": "markdown",
      "source": [
        "Import the required packages for this notebook.\n",
        "\n"
      ],
      "metadata": {}
    },
    {
      "cell_type": "code",
      "source": [
        "import json\n",
        "import os\n",
        "\n",
        "import requests\n",
        "from azure.identity import DefaultAzureCredential\n",
        "from azure.search.documents import SearchClient\n",
        "from dotenv import load_dotenv\n",
        "from azure.search.documents.indexes.models import SemanticConfiguration \n",
        "import autogen\n",
        "from autogen import AssistantAgent, UserProxyAgent, register_function\n",
        "from autogen.cache import Cache\n",
        "from autogen.graph_utils import visualize_speaker_transitions_dict\n",
        "\n"
      ],
      "outputs": [],
      "execution_count": 2,
      "metadata": {
        "gather": {
          "logged": 1719338414030
        }
      }
    },
    {
      "cell_type": "markdown",
      "source": [
        "Load the parameters from the azure.env file "
      ],
      "metadata": {
        "nteract": {
          "transient": {
            "deleting": false
          }
        }
      }
    },
    {
      "cell_type": "code",
      "source": [
        "import os\n",
        "from pathlib import Path\n",
        "dotenv_path = Path('azure.env')\n",
        "load_dotenv(dotenv_path=dotenv_path)\n",
        "\n",
        "# Import Cognitive Search index ENV\n",
        "AZURE_SEARCH_SERVICE = os.getenv(\"AZURE_SEARCH_SERVICE\")\n",
        "AZURE_SEARCH_INDEX = os.getenv(\"AZURE_SEARCH_INDEX\")\n",
        "AZURE_SEARCH_KEY = os.getenv(\"AZURE_SEARCH_KEY\")\n",
        "AZURE_SEARCH_API_VERSION = os.getenv(\"AZURE_SEARCH_API_VERSION\")\n",
        "AZURE_SEARCH_SEMANTIC_SEARCH_CONFIG = os.getenv(\"AZURE_SEARCH_SEMANTIC_SEARCH_CONFIG\")\n",
        "AZURE_SEARCH_SERVICE_ENDPOINT = os.getenv(\"AZURE_SEARCH_SERVICE_ENDPOINT\")\n",
        "bing_search_subscription_key = os.getenv('BING_SUBSCRIPTION_KEY')\n",
        "bing_search_url = \"https://api.bing.microsoft.com/v7.0/search\""
      ],
      "outputs": [],
      "execution_count": 3,
      "metadata": {
        "jupyter": {
          "source_hidden": false,
          "outputs_hidden": false
        },
        "nteract": {
          "transient": {
            "deleting": false
          }
        },
        "gather": {
          "logged": 1719338414208
        }
      }
    },
    {
      "cell_type": "markdown",
      "source": [
        "Azure AI Search function will search customer enterprise data source which is the imported index, and \"semantic-configuration\" which is created on the index to enable semantic search. This search function will handle the customer enterprise data scenario  and will be called when prompt requires LLM to call enterprise data which is differentiated by \"hotel\" asks"
      ],
      "metadata": {}
    },
    {
      "cell_type": "code",
      "source": [
        "\n",
        "def search(query: str):\n",
        "    results =  client.search(query_type='semantic',\n",
        "    search_text=query ,\n",
        "    select=[\"HotelName\",\"Rooms/Description\", \"Address\"],\n",
        "    semantic_configuration_name= AZURE_SEARCH_SEMANTIC_SEARCH_CONFIG,\n",
        "    top=4,\n",
        "    include_total_count=True)\n",
        "    output=[]\n",
        "    for result in results:\n",
        "        output.append(result)\n",
        "\n",
        "        \n",
        "    return output\n"
      ],
      "outputs": [],
      "execution_count": 4,
      "metadata": {
        "jupyter": {
          "source_hidden": false,
          "outputs_hidden": false
        },
        "nteract": {
          "transient": {
            "deleting": false
          }
        },
        "gather": {
          "logged": 1719338414403
        }
      }
    },
    {
      "cell_type": "markdown",
      "source": [
        "Create a Search function using Azure Bing search API(s), this function will be used by the AI Agents when the requested data is not present in the enterprise AI Search function\n",
        "\n",
        "\n",
        "**Note: **If you want to access other data sources to just want to test the flow of agents, you can update the data source to your enterprise data source or can return any string message"
      ],
      "metadata": {
        "nteract": {
          "transient": {
            "deleting": false
          }
        }
      }
    },
    {
      "cell_type": "code",
      "source": [
        "def search_bing(query:str):\n",
        "    headers = {\"Ocp-Apim-Subscription-Key\": bing_search_subscription_key}\n",
        "    params = {\"q\": query, \"textDecorations\": False }\n",
        "    response = requests.get(bing_search_url, headers=headers, params=params)\n",
        "    response.raise_for_status()\n",
        "    search_results = response.json()\n",
        "\n",
        "    output = []\n",
        "\n",
        "    for result in search_results['webPages']['value']:\n",
        "        output.append({\n",
        "            'title': result['name'],\n",
        "            'link': result['url'],\n",
        "            'snippet': result['snippet']\n",
        "        })\n",
        "\n",
        "    return json.dumps(output)"
      ],
      "outputs": [],
      "execution_count": 5,
      "metadata": {
        "jupyter": {
          "source_hidden": false,
          "outputs_hidden": false
        },
        "nteract": {
          "transient": {
            "deleting": false
          }
        },
        "gather": {
          "logged": 1719338414647
        }
      }
    },
    {
      "cell_type": "markdown",
      "source": [
        "Create an Azure AI search client to access the created AI search service and index "
      ],
      "metadata": {
        "nteract": {
          "transient": {
            "deleting": false
          }
        }
      }
    },
    {
      "cell_type": "code",
      "source": [
        "from azure.core.credentials import AzureKeyCredential\n",
        "credential = AzureKeyCredential(AZURE_SEARCH_KEY)\n",
        "endpoint = AZURE_SEARCH_SERVICE_ENDPOINT\n",
        "client = SearchClient(endpoint=endpoint, index_name=AZURE_SEARCH_INDEX, credential=credential)\n",
        "#print(search(\"\"\"waterfront hotels\"\"\"))"
      ],
      "outputs": [],
      "execution_count": 6,
      "metadata": {
        "gather": {
          "logged": 1719338414799
        }
      }
    },
    {
      "cell_type": "markdown",
      "source": [
        "Load the configuration list and define the configuration for the `AssistantAgent`from OAI_CONFIG_LIST"
      ],
      "metadata": {}
    },
    {
      "cell_type": "code",
      "source": [
        "config_list= autogen.config_list_from_json(\n",
        "    \"OAI_CONFIG_LIST.json\",\n",
        "    filter_dict={\n",
        "        \"model\": [\"gpt4-0125\"],\n",
        "    },\n",
        ")\n",
        "\n",
        "gpt4_config = {\n",
        "    \"cache_seed\": None,\n",
        "    \"temperature\": 0,\n",
        "    \"config_list\": config_list,\n",
        "    \"timeout\": 120,\n",
        "}\n",
        "print(config_list)"
      ],
      "outputs": [],
      "execution_count": null,
      "metadata": {
        "gather": {
          "logged": 1719338414943
        }
      }
    },
    {
      "cell_type": "markdown",
      "source": [
        "\n",
        "Define three Agents COGSearch,BINGsearch and Summarizationagent , these agents will work together to generate the desired output"
      ],
      "metadata": {}
    },
    {
      "cell_type": "code",
      "source": [
        "cog_search = AssistantAgent(\n",
        "    name=\"COGSearch\",\n",
        "    system_message=\"You are a helpful hotels search AI assistant to search hotels. \"\n",
        "    \"You can help with Azure AI Search index based search.\"\n",
        "    \"Return 'TERMINATE' when the task is done.\",\n",
        "    llm_config=gpt4_config,\n",
        "    description=\"\"\"\n",
        "    \"Search from Azure AI Search for hotels information \"\"\"\n",
        ")\n",
        "\n",
        "\n",
        "\n",
        "bing_search = AssistantAgent(\n",
        "    name=\"BINGsearch\",\n",
        "    system_message=\"You are a helpful AI assistant to find web results from bing search.\"\n",
        "    \"You can help with bing Search.\"\n",
        "    \"Return 'TERMINATE' when the task is done.\",\n",
        "    llm_config=gpt4_config,\n",
        "     description=\"\"\"\n",
        "    \"This toolis to Search for latest web based records which do not exist in AI Search index\"\"\"\n",
        ")\n",
        "\n",
        "\n",
        "summarize_agent = AssistantAgent(\n",
        "    name=\"summarizeagent\",\n",
        "    system_message=\"You are a helpful hotels search AI assistant . \"\n",
        "    \"You will summarize the serach results in a bulleted format.\"\n",
        "    \"Return 'TERMINATE' when the task is done.\",\n",
        "    llm_config=gpt4_config,\n",
        "    description=\"\"\"\n",
        "    Summarize the final answer \"\"\"\n",
        ")\n",
        "user_proxy = UserProxyAgent(\n",
        "    name=\"User\",\n",
        "    llm_config=False,\n",
        "    is_termination_msg=lambda msg: msg.get(\"content\") is not None and \"TERMINATE\" in msg[\"content\"],\n",
        "    human_input_mode=\"NEVER\",\n",
        "    system_message=\"Give the task, and send \"\n",
        "    \"instructions to other agents to complete the task.\",\n",
        ")\n"
      ],
      "outputs": [],
      "execution_count": 8,
      "metadata": {
        "gather": {
          "logged": 1719338415202
        }
      }
    },
    {
      "cell_type": "markdown",
      "source": [
        "Register the defined tools (our  functions) with our agents so that our agents can use these tools when required."
      ],
      "metadata": {
        "nteract": {
          "transient": {
            "deleting": false
          }
        }
      }
    },
    {
      "cell_type": "markdown",
      "source": [
        "**Note** : pay special attention to description filed, as this is the field is seen by other agents to understand the purpose of agents"
      ],
      "metadata": {
        "nteract": {
          "transient": {
            "deleting": false
          }
        }
      }
    },
    {
      "cell_type": "code",
      "source": [
        "\n",
        "register_function(\n",
        "    search,\n",
        "    caller=cog_search,\n",
        "    executor=user_proxy,\n",
        "    name=\"search\",\n",
        "    description=\"A tool for searching for hotels information in the {AZURE_SEARCH_SEMANTIC_SEARCH_CONFIG} index \",\n",
        ")\n",
        "\n",
        "register_function(\n",
        "    search_bing,\n",
        "    caller=bing_search,\n",
        "    executor=user_proxy,\n",
        "    name=\"search_bing\",\n",
        "    description=\"A tool for bing based search, DO NOT use this tool for hotels related searches\"\n",
        ")"
      ],
      "outputs": [],
      "execution_count": null,
      "metadata": {
        "jupyter": {
          "source_hidden": false,
          "outputs_hidden": false
        },
        "nteract": {
          "transient": {
            "deleting": false
          }
        },
        "gather": {
          "logged": 1719338415354
        }
      }
    },
    {
      "cell_type": "markdown",
      "source": [
        "Craate a group chat and provide the names of the agents that will communicate with each other  "
      ],
      "metadata": {}
    },
    {
      "cell_type": "code",
      "source": [
        "agents=[user_proxy, cog_search, bing_search,summarize_agent ]"
      ],
      "outputs": [],
      "execution_count": 10,
      "metadata": {
        "jupyter": {
          "source_hidden": false,
          "outputs_hidden": false
        },
        "nteract": {
          "transient": {
            "deleting": false
          }
        },
        "gather": {
          "logged": 1719338415504
        }
      }
    },
    {
      "cell_type": "markdown",
      "source": [
        "We can also define allowed speakers by providing the transition path in the \"allowed_or_disallowed_speaker_transitions\" parameter  "
      ],
      "metadata": {
        "nteract": {
          "transient": {
            "deleting": false
          }
        }
      }
    },
    {
      "cell_type": "code",
      "source": [
        "allowed_speaker_transitions_dict = {agent: [other_agent for other_agent in agents]\n",
        " for agent in agents}\n",
        "\n"
      ],
      "outputs": [],
      "execution_count": 11,
      "metadata": {
        "jupyter": {
          "source_hidden": false,
          "outputs_hidden": false
        },
        "nteract": {
          "transient": {
            "deleting": false
          }
        },
        "gather": {
          "logged": 1719338415647
        }
      }
    },
    {
      "cell_type": "markdown",
      "source": [
        "Please view the agents communication and transition paths below"
      ],
      "metadata": {
        "nteract": {
          "transient": {
            "deleting": false
          }
        }
      }
    },
    {
      "cell_type": "code",
      "source": [
        "visualize_speaker_transitions_dict(allowed_speaker_transitions_dict, agents)"
      ],
      "outputs": [
        {
          "output_type": "display_data",
          "data": {
            "text/plain": "<Figure size 640x480 with 1 Axes>",
            "image/png": "[encoded data removed]"
          },
          "metadata": {}
        }
      ],
      "execution_count": 12,
      "metadata": {
        "jupyter": {
          "source_hidden": false,
          "outputs_hidden": false
        },
        "nteract": {
          "transient": {
            "deleting": false
          }
        },
        "gather": {
          "logged": 1719338418956
        }
      }
    },
    {
      "cell_type": "markdown",
      "source": [
        "We can pass the agents transition path to \"GroupChat\" which will govern the transition between agents as per the transitions allowed in \"allowed_speaker_transitions_dict\" which we defined wbove"
      ],
      "metadata": {
        "nteract": {
          "transient": {
            "deleting": false
          }
        }
      }
    },
    {
      "cell_type": "code",
      "source": [
        "groupchat = autogen.GroupChat(\n",
        "    agents=agents,\n",
        "    messages=[],\n",
        "    max_round=4,\n",
        "    allowed_or_disallowed_speaker_transitions=allowed_speaker_transitions_dict,\n",
        "    speaker_transitions_type=\"allowed\"\n",
        ")"
      ],
      "outputs": [],
      "execution_count": 13,
      "metadata": {
        "jupyter": {
          "source_hidden": false,
          "outputs_hidden": false
        },
        "nteract": {
          "transient": {
            "deleting": false
          }
        },
        "gather": {
          "logged": 1719338419102
        }
      }
    },
    {
      "cell_type": "code",
      "source": [
        "manager = autogen.GroupChatManager(\n",
        "    groupchat=groupchat, llm_config=gpt4_config\n",
        ")"
      ],
      "outputs": [],
      "execution_count": 14,
      "metadata": {
        "gather": {
          "logged": 1719338419242
        }
      }
    },
    {
      "cell_type": "markdown",
      "source": [
        "Initiate the chat to see the below scenarios\n",
        "\n",
        "- When we ask about hotels, the right agent is activated and brings the result from the AI Search - Please note you can extend this to include your enterprise data sources or SQL data or any other data source. Concept remains same \n",
        "- When you ask any question out side the scope of enterprise data ( non hotel question) bing agent is activated to solve the ask\n",
        "- Notice that at the end both above agents will call the summarize agent to summarize the answer"
      ],
      "metadata": {
        "nteract": {
          "transient": {
            "deleting": false
          }
        }
      }
    },
    {
      "cell_type": "markdown",
      "source": [
        "**Scenario # 1**  - Bing Agent is called, followed by summarizeagent as the ask can not be solved by CogSearch Agent, pay attention to the function called , in below case bing_search function is called which is used by BINGsearch agent "
      ],
      "metadata": {
        "nteract": {
          "transient": {
            "deleting": false
          }
        }
      }
    },
    {
      "cell_type": "code",
      "source": [
        "groupchat_result = user_proxy.initiate_chat(\n",
        "    manager,\n",
        "    message=\"Please provide me a  list of top 5 National Parks in USA, please provide a brief highlight of each park main attraction\",\n",
        "   \n",
        ")"
      ],
      "outputs": [],
      "execution_count": null,
      "metadata": {
        "jupyter": {
          "source_hidden": false,
          "outputs_hidden": false
        },
        "nteract": {
          "transient": {
            "deleting": false
          }
        },
        "gather": {
          "logged": 1719338431932
        }
      }
    },
    {
      "cell_type": "markdown",
      "source": [
        "**Scenario # 2**  -AI Search agent is called to fetch data from enterprise data source, followed by summarizeagent as the ask can not be solved by in-house dataset "
      ],
      "metadata": {
        "nteract": {
          "transient": {
            "deleting": false
          }
        }
      }
    },
    {
      "cell_type": "code",
      "source": [
        "groupchat_result = user_proxy.initiate_chat(\n",
        "    manager,\n",
        "     message=\"\"\"Please provide me hotels with Waterfront View , summarize the answer by just giving the hotel name and brief overview\"\"\",\n",
        ")"
      ],
      "outputs": [],
      "execution_count": null,
      "metadata": {
        "jupyter": {
          "source_hidden": false,
          "outputs_hidden": false
        },
        "nteract": {
          "transient": {
            "deleting": false
          }
        },
        "gather": {
          "logged": 1719338437955
        }
      }
    },
    {
      "cell_type": "markdown",
      "source": [
        "In previous example we allowed all agents to agents communication, now I am putting a path as per my business rules and use case, please feel free to comment any agent to agent path and execute the \"visualize...\" code block to see how the agents transitions can be governed."
      ],
      "metadata": {
        "nteract": {
          "transient": {
            "deleting": false
          }
        }
      }
    },
    {
      "cell_type": "code",
      "source": [
        "allowed_speaker_transitions_dict_hub_and_spoke = {\n",
        "    agents[0]: [agents[1], agents[2],agents[3]],\n",
        "    #agents[1]: [agents[0]],\n",
        "    agents[2]: [agents[0]],\n",
        "    agents[3]: [agents[0]],\n",
        "}\n"
      ],
      "outputs": [],
      "execution_count": 17,
      "metadata": {
        "jupyter": {
          "source_hidden": false,
          "outputs_hidden": false
        },
        "nteract": {
          "transient": {
            "deleting": false
          }
        },
        "gather": {
          "logged": 1719338438119
        }
      }
    },
    {
      "cell_type": "code",
      "source": [
        "value = visualize_speaker_transitions_dict(allowed_speaker_transitions_dict_hub_and_spoke, agents)"
      ],
      "outputs": [
        {
          "output_type": "display_data",
          "data": {
            "text/plain": "<Figure size 640x480 with 1 Axes>",
            "image/png": "[encoded data removed]"
          },
          "metadata": {}
        }
      ],
      "execution_count": 18,
      "metadata": {
        "jupyter": {
          "source_hidden": false,
          "outputs_hidden": false
        },
        "nteract": {
          "transient": {
            "deleting": false
          }
        },
        "gather": {
          "logged": 1719338438281
        }
      }
    }
  ],
  "metadata": {
    "front_matter": {
      "description": "This notebook demonstrates the use of Assistant Agents in conjunction with Azure Cognitive Search and Azure Identity",
      "tags": [
        "RAG",
        "Azure Identity",
        "Azure AI Search"
      ]
    },
    "kernelspec": {
      "name": "python310-sdkv2",
      "language": "python",
      "display_name": "Python 3.10 - SDK v2"
    },
    "language_info": {
      "name": "python",
      "version": "3.10.14",
      "mimetype": "text/x-python",
      "codemirror_mode": {
        "name": "ipython",
        "version": 3
      },
      "pygments_lexer": "ipython3",
      "nbconvert_exporter": "python",
      "file_extension": ".py"
    },
    "skip_test": "This requires Azure AI Search to be enabled and creds for AI Search from Azure Portal",
    "microsoft": {
      "ms_spell_check": {
        "ms_spell_check_language": "en"
      },
      "host": {
        "AzureML": {
          "notebookHasBeenCompleted": true
        }
      }
    },
    "kernel_info": {
      "name": "python310-sdkv2"
    },
    "nteract": {
      "version": "nteract-front-end@1.0.0"
    }
  },
  "nbformat": 4,
  "nbformat_minor": 2
}