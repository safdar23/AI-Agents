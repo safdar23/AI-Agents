{
  "cells": [
    {
      "cell_type": "markdown",
      "source": [
        "# Autogen Agents with Azure Cognitive Search, Azure Bing Search \n",
        "\n",
        "This notebook demonstrates the use of AI AutoGen Agents with tools which use Azure Cognitive Search and Bing Search to extract data.This notebook uses multi-agent communication and also switches between the agents based on the customer ask\n"
      ],
      "metadata": {}
    },
    {
      "cell_type": "markdown",
      "source": [
        "## Login to Azure:\n",
        "   "
      ],
      "metadata": {}
    },
    {
      "cell_type": "code",
      "source": [
        "# Check Azure CLI installation and login status\n",
        "#!az --version\n",
        "#!az login"
      ],
      "outputs": [],
      "execution_count": null,
      "metadata": {
        "gather": {
          "logged": 1718819048283
        }
      }
    },
    {
      "cell_type": "markdown",
      "source": [
        "## Install required packages\n",
        "Run the cell below to install the required packages for this notebook.\n",
        "\n"
      ],
      "metadata": {}
    },
    {
      "cell_type": "code",
      "source": [
        "\n",
        "%pip install python-dotenv --quiet\n",
        "%pip install pyautogen --quiet\n",
        "%pip install azure-search-documents --quiet\n",
        "%pip install azure-identity --quiet\n",
        "%pip install python-dotenv --quiet\n",
        "%pip install typing-extensions==4.7 --quiet\n"
      ],
      "outputs": [
        {
          "output_type": "stream",
          "name": "stdout",
          "text": "Note: you may need to restart the kernel to use updated packages.\n\u001b[31mERROR: pip's dependency resolver does not currently take into account all the packages that are installed. This behaviour is the source of the following dependency conflicts.\nazureml-dataprep 5.1.6 requires cloudpickle<3.0.0,>=1.1.0, but you have cloudpickle 3.0.0 which is incompatible.\nazureml-mlflow 1.56.0 requires azure-storage-blob<=12.19.0,>=12.5.0, but you have azure-storage-blob 12.20.0 which is incompatible.\u001b[0m\u001b[31m\n\u001b[0mNote: you may need to restart the kernel to use updated packages.\nNote: you may need to restart the kernel to use updated packages.\nNote: you may need to restart the kernel to use updated packages.\nNote: you may need to restart the kernel to use updated packages.\n\u001b[31mERROR: pip's dependency resolver does not currently take into account all the packages that are installed. This behaviour is the source of the following dependency conflicts.\nazureml-dataprep 5.1.6 requires cloudpickle<3.0.0,>=1.1.0, but you have cloudpickle 3.0.0 which is incompatible.\nazureml-mlflow 1.56.0 requires azure-storage-blob<=12.19.0,>=12.5.0, but you have azure-storage-blob 12.20.0 which is incompatible.\npydantic-core 2.18.4 requires typing-extensions!=4.7.0,>=4.6.0, but you have typing-extensions 4.7.0 which is incompatible.\u001b[0m\u001b[31m\n\u001b[0mNote: you may need to restart the kernel to use updated packages.\n"
        }
      ],
      "execution_count": 19,
      "metadata": {
        "gather": {
          "logged": 1719265734588
        }
      }
    },
    {
      "cell_type": "markdown",
      "source": [
        "Import the required packages for this notebook.\n",
        "\n"
      ],
      "metadata": {}
    },
    {
      "cell_type": "code",
      "source": [
        "import json\n",
        "import os\n",
        "\n",
        "import requests\n",
        "from azure.identity import DefaultAzureCredential\n",
        "from azure.search.documents import SearchClient\n",
        "from dotenv import load_dotenv\n",
        "\n",
        "import autogen\n",
        "from autogen import AssistantAgent, UserProxyAgent, register_function\n",
        "from autogen.cache import Cache\n",
        "from autogen.graph_utils import visualize_speaker_transitions_dict\n",
        "\n"
      ],
      "outputs": [],
      "execution_count": 20,
      "metadata": {
        "gather": {
          "logged": 1719265734843
        }
      }
    },
    {
      "cell_type": "markdown",
      "source": [
        "Load the parameters from the azure.env file "
      ],
      "metadata": {
        "nteract": {
          "transient": {
            "deleting": false
          }
        }
      }
    },
    {
      "cell_type": "code",
      "source": [
        "import os\n",
        "from pathlib import Path\n",
        "dotenv_path = Path('azure.env')\n",
        "load_dotenv(dotenv_path=dotenv_path)\n",
        "\n",
        "print(os.getenv(\"AZURE_OPENAI_KEY\"))\n",
        "\n",
        "# Import Cognitive Search index ENV\n",
        "AZURE_SEARCH_SERVICE = os.getenv(\"AZURE_SEARCH_SERVICE\")\n",
        "AZURE_SEARCH_INDEX = os.getenv(\"AZURE_SEARCH_INDEX\")\n",
        "AZURE_SEARCH_KEY = os.getenv(\"AZURE_SEARCH_KEY\")\n",
        "AZURE_SEARCH_API_VERSION = os.getenv(\"AZURE_SEARCH_API_VERSION\")\n",
        "AZURE_SEARCH_SEMANTIC_SEARCH_CONFIG = os.getenv(\"AZURE_SEARCH_SEMANTIC_SEARCH_CONFIG\")\n",
        "AZURE_SEARCH_SERVICE_ENDPOINT = os.getenv(\"AZURE_SEARCH_SERVICE_ENDPOINT\")\n",
        "bing_search_subscription_key = os.getenv('BING_SUBSCRIPTION_KEY')\n",
        "bing_search_url = \"https://api.bing.microsoft.com/v7.0/search\""
      ],
      "outputs": [
        {
          "output_type": "stream",
          "name": "stdout",
          "text": "7eb539fcfa35406aa73fd0d15e163ddd\n"
        }
      ],
      "execution_count": 21,
      "metadata": {
        "jupyter": {
          "source_hidden": false,
          "outputs_hidden": false
        },
        "nteract": {
          "transient": {
            "deleting": false
          }
        },
        "gather": {
          "logged": 1719265735133
        }
      }
    },
    {
      "cell_type": "markdown",
      "source": [
        "Azure AI Search function will search customer enterprise data source which is the imported index, and \"semantic-configuration\" which is created on the index to enable semantic search. This search function will handle the customer enterprise data scenario  and will be called when prompt requires LLM to call enterprise data which is differentiated by \"hotel\" asks"
      ],
      "metadata": {}
    },
    {
      "cell_type": "code",
      "source": [
        "from azure.search.documents.indexes.models import SemanticConfiguration \n",
        "def search(query: str):\n",
        "    results =  client.search(query_type='semantic',\n",
        "    search_text=query ,\n",
        "    select=[\"HotelName\",\"Rooms/Description\", \"Address\"],\n",
        "    semantic_configuration_name= AZURE_SEARCH_SEMANTIC_SEARCH_CONFIG,\n",
        "    top=4,\n",
        "    include_total_count=True)\n",
        "    output=[]\n",
        "    for result in results:\n",
        "        output.append(result)\n",
        "\n",
        "        \n",
        "    return output\n"
      ],
      "outputs": [],
      "execution_count": 22,
      "metadata": {
        "jupyter": {
          "source_hidden": false,
          "outputs_hidden": false
        },
        "nteract": {
          "transient": {
            "deleting": false
          }
        },
        "gather": {
          "logged": 1719265735325
        }
      }
    },
    {
      "cell_type": "markdown",
      "source": [
        "Create a Search function using Azure Bing search API(s), this function will be used by the AI Agents when the requested data is not present in the enterprise AI Search function\n",
        "\n",
        "\n",
        "**Note: **If you want to access other data sources to just want to test the flow of agents, you can update the data source to your enterprise data source or can return any string message"
      ],
      "metadata": {
        "nteract": {
          "transient": {
            "deleting": false
          }
        }
      }
    },
    {
      "cell_type": "code",
      "source": [
        "def search_bing(query:str):\n",
        "    headers = {\"Ocp-Apim-Subscription-Key\": bing_search_subscription_key}\n",
        "    params = {\"q\": query, \"textDecorations\": False }\n",
        "    response = requests.get(bing_search_url, headers=headers, params=params)\n",
        "    response.raise_for_status()\n",
        "    search_results = response.json()\n",
        "\n",
        "    output = []\n",
        "\n",
        "    for result in search_results['webPages']['value']:\n",
        "        output.append({\n",
        "            'title': result['name'],\n",
        "            'link': result['url'],\n",
        "            'snippet': result['snippet']\n",
        "        })\n",
        "\n",
        "    return json.dumps(output)"
      ],
      "outputs": [],
      "execution_count": 23,
      "metadata": {
        "jupyter": {
          "source_hidden": false,
          "outputs_hidden": false
        },
        "nteract": {
          "transient": {
            "deleting": false
          }
        },
        "gather": {
          "logged": 1719265735471
        }
      }
    },
    {
      "cell_type": "markdown",
      "source": [
        "Create an Azure AI search client to access the created AI search service and index "
      ],
      "metadata": {
        "nteract": {
          "transient": {
            "deleting": false
          }
        }
      }
    },
    {
      "cell_type": "code",
      "source": [
        "from azure.core.credentials import AzureKeyCredential\n",
        "credential = AzureKeyCredential(AZURE_SEARCH_KEY)\n",
        "endpoint = AZURE_SEARCH_SERVICE_ENDPOINT\n",
        "client = SearchClient(endpoint=endpoint, index_name=AZURE_SEARCH_INDEX, credential=credential)\n",
        "#print(search(\"\"\"waterfront hotels\"\"\"))"
      ],
      "outputs": [],
      "execution_count": 24,
      "metadata": {
        "gather": {
          "logged": 1719265735606
        }
      }
    },
    {
      "cell_type": "markdown",
      "source": [
        "Load the configuration list and define the configuration for the `AssistantAgent`from OAI_CONFIG_LIST"
      ],
      "metadata": {}
    },
    {
      "cell_type": "code",
      "source": [
        "config_list= autogen.config_list_from_json(\n",
        "    \"OAI_CONFIG_LIST\",\n",
        "    filter_dict={\n",
        "        \"model\": [\"gpt4-0125\"],\n",
        "    },\n",
        ")\n",
        "\n",
        "gpt4_config = {\n",
        "    \"cache_seed\": None,\n",
        "    \"temperature\": 0,\n",
        "    \"config_list\": config_list,\n",
        "    \"timeout\": 120,\n",
        "}\n",
        "print(config_list)"
      ],
      "outputs": [
        {
          "output_type": "stream",
          "name": "stdout",
          "text": "[{'model': 'gpt4-0125', 'api_key': '7eb539fcfa35406aa73fd0d15e163ddd', 'base_url': 'https://openainsresouirce.openai.azure.com/', 'api_type': 'azure', 'api_version': '2024-02-01'}]\n"
        }
      ],
      "execution_count": 25,
      "metadata": {
        "gather": {
          "logged": 1719265735739
        }
      }
    },
    {
      "cell_type": "markdown",
      "source": [
        "\n",
        "Define three Agents COGSearch,BINGsearch and Summarizationagent , these agents will work together to generate the desired output"
      ],
      "metadata": {}
    },
    {
      "cell_type": "code",
      "source": [
        "cog_search = AssistantAgent(\n",
        "    name=\"COGSearch\",\n",
        "    system_message=\"You are a helpful hotels search AI assistant to search hotels. \"\n",
        "    \"You can help with Azure AI Search index based search.\"\n",
        "    \"Return 'TERMINATE' when the task is done.\",\n",
        "    llm_config=gpt4_config,\n",
        "    description=\"\"\"\n",
        "    \"Search from Azure AI Search for hotels information \"\"\"\n",
        ")\n",
        "\n",
        "\n",
        "\n",
        "bing_search = AssistantAgent(\n",
        "    name=\"BINGsearch\",\n",
        "    system_message=\"You are a helpful AI assistant to find web results from bing search.\"\n",
        "    \"You can help with bing Search.\"\n",
        "    \"Return 'TERMINATE' when the task is done.\",\n",
        "    llm_config=gpt4_config,\n",
        "     description=\"\"\"\n",
        "    \"This toolis to Search for latest web based records which do not exist in AI Search index\"\"\"\n",
        ")\n",
        "\n",
        "\n",
        "summarize_agent = AssistantAgent(\n",
        "    name=\"summarizeagent\",\n",
        "    system_message=\"You are a helpful hotels search AI assistant . \"\n",
        "    \"You will summarize the serach results in a bulleted format.\"\n",
        "    \"Return 'TERMINATE' when the task is done.\",\n",
        "    llm_config=gpt4_config,\n",
        "    description=\"\"\"\n",
        "    Summarize the final answer \"\"\"\n",
        ")\n",
        "user_proxy = UserProxyAgent(\n",
        "    name=\"User\",\n",
        "    llm_config=False,\n",
        "    is_termination_msg=lambda msg: msg.get(\"content\") is not None and \"TERMINATE\" in msg[\"content\"],\n",
        "    human_input_mode=\"NEVER\",\n",
        "    system_message=\"Give the task, and send \"\n",
        "    \"instructions to other agents to complete the task.\",\n",
        ")\n"
      ],
      "outputs": [],
      "execution_count": 26,
      "metadata": {
        "gather": {
          "logged": 1719265735885
        }
      }
    },
    {
      "cell_type": "markdown",
      "source": [
        "Register the defined tools (our  functions) with our agents so that our agents can use these tools when required."
      ],
      "metadata": {
        "nteract": {
          "transient": {
            "deleting": false
          }
        }
      }
    },
    {
      "cell_type": "markdown",
      "source": [
        "**Note** : pay special attention to description filed, as this is the field is seen by other agents to understand the purpose of agents"
      ],
      "metadata": {
        "nteract": {
          "transient": {
            "deleting": false
          }
        }
      }
    },
    {
      "cell_type": "code",
      "source": [
        "\n",
        "register_function(\n",
        "    search,\n",
        "    caller=cog_search,\n",
        "    executor=user_proxy,\n",
        "    name=\"search\",\n",
        "    description=\"A tool for searching for hotels information in the {AZURE_SEARCH_SEMANTIC_SEARCH_CONFIG} index \",\n",
        ")\n",
        "\n",
        "register_function(\n",
        "    search_bing,\n",
        "    caller=bing_search,\n",
        "    executor=user_proxy,\n",
        "    name=\"search_bing\",\n",
        "    description=\"A tool for bing based search, DO NOT use this tool for hotels related searches\"\n",
        ")"
      ],
      "outputs": [
        {
          "output_type": "stream",
          "name": "stderr",
          "text": "The return type of the function 'search' is not annotated. Although annotating it is optional, the function should return either a string, a subclass of 'pydantic.BaseModel'.\nThe return type of the function 'search_bing' is not annotated. Although annotating it is optional, the function should return either a string, a subclass of 'pydantic.BaseModel'.\n"
        }
      ],
      "execution_count": 27,
      "metadata": {
        "jupyter": {
          "source_hidden": false,
          "outputs_hidden": false
        },
        "nteract": {
          "transient": {
            "deleting": false
          }
        },
        "gather": {
          "logged": 1719265736025
        }
      }
    },
    {
      "cell_type": "markdown",
      "source": [
        "Craate a group chat and provide the names of the agents that will communicate with each other  "
      ],
      "metadata": {}
    },
    {
      "cell_type": "code",
      "source": [
        "agents=[user_proxy, cog_search, bing_search,summarize_agent ]"
      ],
      "outputs": [],
      "execution_count": 28,
      "metadata": {
        "jupyter": {
          "source_hidden": false,
          "outputs_hidden": false
        },
        "nteract": {
          "transient": {
            "deleting": false
          }
        },
        "gather": {
          "logged": 1719265736162
        }
      }
    },
    {
      "cell_type": "markdown",
      "source": [
        "We can also define allowed speakers by providing the transition path in the \"allowed_or_disallowed_speaker_transitions\" parameter  "
      ],
      "metadata": {
        "nteract": {
          "transient": {
            "deleting": false
          }
        }
      }
    },
    {
      "cell_type": "code",
      "source": [
        "allowed_speaker_transitions_dict = {agent: [other_agent for other_agent in agents]\n",
        " for agent in agents}\n",
        "\n"
      ],
      "outputs": [],
      "execution_count": 29,
      "metadata": {
        "jupyter": {
          "source_hidden": false,
          "outputs_hidden": false
        },
        "nteract": {
          "transient": {
            "deleting": false
          }
        },
        "gather": {
          "logged": 1719265736472
        }
      }
    },
    {
      "cell_type": "markdown",
      "source": [
        "Please view the agents communication and transition paths below"
      ],
      "metadata": {
        "nteract": {
          "transient": {
            "deleting": false
          }
        }
      }
    },
    {
      "cell_type": "code",
      "source": [
        "visualize_speaker_transitions_dict(allowed_speaker_transitions_dict, agents)"
      ],
      "outputs": [
        {
          "output_type": "display_data",
          "data": {
            "text/plain": "<Figure size 640x480 with 1 Axes>",
            "image/png": "[encoded data removed]"
          },
          "metadata": {}
        }
      ],
      "execution_count": 30,
      "metadata": {
        "jupyter": {
          "source_hidden": false,
          "outputs_hidden": false
        },
        "nteract": {
          "transient": {
            "deleting": false
          }
        },
        "gather": {
          "logged": 1719265736724
        }
      }
    },
    {
      "cell_type": "markdown",
      "source": [
        "We can pass the agents transition path to \"GroupChat\" which will govern the transition between agents as per the transitions allowed in \"allowed_speaker_transitions_dict\" which we defined wbove"
      ],
      "metadata": {
        "nteract": {
          "transient": {
            "deleting": false
          }
        }
      }
    },
    {
      "cell_type": "code",
      "source": [
        "groupchat = autogen.GroupChat(\n",
        "    agents=agents,\n",
        "    messages=[],\n",
        "    max_round=4,\n",
        "    allowed_or_disallowed_speaker_transitions=allowed_speaker_transitions_dict,\n",
        "    speaker_transitions_type=\"allowed\"\n",
        ")"
      ],
      "outputs": [],
      "execution_count": 31,
      "metadata": {
        "jupyter": {
          "source_hidden": false,
          "outputs_hidden": false
        },
        "nteract": {
          "transient": {
            "deleting": false
          }
        },
        "gather": {
          "logged": 1719265736876
        }
      }
    },
    {
      "cell_type": "code",
      "source": [
        "manager = autogen.GroupChatManager(\n",
        "    groupchat=groupchat, llm_config=gpt4_config\n",
        ")"
      ],
      "outputs": [],
      "execution_count": 32,
      "metadata": {
        "gather": {
          "logged": 1719265737019
        }
      }
    },
    {
      "cell_type": "markdown",
      "source": [
        "Initiate the chat to see the below scenarios\n",
        "\n",
        "- When we ask about hotels, the right agent is activated and brings the result from the AI Search - Please note you can extend this to include your enterprise data sources or SQL data or any other data source. Concept remains same \n",
        "- When you ask any question out side the scope of enterprise data ( non hotel question) bing agent is activated to solve the ask\n",
        "- Notice that at the end both above agents will call the summarize agent to summarize the answer"
      ],
      "metadata": {
        "nteract": {
          "transient": {
            "deleting": false
          }
        }
      }
    },
    {
      "cell_type": "markdown",
      "source": [
        "**Scenario # 1**  - Bing Agent is called, followed by summarizeagent as the ask can not be solved by CogSearch Agent, pay attention to the function called , in below case bing_search function is called which is used by BINGsearch agent "
      ],
      "metadata": {
        "nteract": {
          "transient": {
            "deleting": false
          }
        }
      }
    },
    {
      "cell_type": "code",
      "source": [
        "groupchat_result = user_proxy.initiate_chat(\n",
        "    manager,\n",
        "    message=\"Please provide me a  list of top 5 National Parks in USA, please provide a brief highlight of each park main attraction\",\n",
        "   \n",
        ")"
      ],
      "outputs": [
        {
          "output_type": "stream",
          "name": "stdout",
          "text": "\u001b[33mUser\u001b[0m (to chat_manager):\n\nPlease provide me a  list of top 5 National Parks in USA, please provide a brief highlight of each park main attraction\n\n--------------------------------------------------------------------------------\n\u001b[32m\nNext speaker: BINGsearch\n\u001b[0m\n\u001b[33mBINGsearch\u001b[0m (to chat_manager):\n\n\u001b[32m***** Suggested tool call (call_9JKFJcVCa1jFykwD5nzb85U0): search_bing *****\u001b[0m\nArguments: \n{\"query\":\"top 5 National Parks in USA\"}\n\u001b[32m****************************************************************************\u001b[0m\n\n--------------------------------------------------------------------------------\n\u001b[32m\nNext speaker: User\n\u001b[0m\n\u001b[35m\n>>>>>>>> EXECUTING FUNCTION search_bing...\u001b[0m\n\u001b[33mUser\u001b[0m (to chat_manager):\n\n\u001b[33mUser\u001b[0m (to chat_manager):\n\n\u001b[32m***** Response from calling tool (call_9JKFJcVCa1jFykwD5nzb85U0) *****\u001b[0m\n[{\"title\": \"List of Top 25 Best US National Parks - More Than Just Parks\", \"link\": \"https://morethanjustparks.com/national-parks-ranked/\", \"snippet\": \"Find out the top 5 national parks in the USA based on accessibility, recreation, crowds, amenities, and scenery. See the latest rankings, scores, and updates for all 63 national parks from the Pattiz Brothers, filmmakers and explorers of America's public lands.\"}, {\"title\": \"Best U.S. National Parks for 2024 | U.S. News Travel\", \"link\": \"https://travel.usnews.com/rankings/best-national-parks-in-the-usa/\", \"snippet\": \"Denali National Park and Preserve. #7 in Best U.S. National Parks for 2024. Spanning six million acres of unspoiled Alaskan wilderness, Denali National Park and Preserve is as vast as it is ...\"}, {\"title\": \"The 25 Best National Parks in the US, From Acadia to Yellowstone\", \"link\": \"https://www.cntraveler.com/gallery/best-national-parks-usa\", \"snippet\": \"Zion National Park, Utah. Zion National Park in southern Utah is best known for its unique landscape of pink Navajo sandstone cliffs and orange slot canyons. Within the park\\u2019s 230 square miles ...\"}, {\"title\": \"15 Best National Parks in the U.S. You Should Visit - Travel\", \"link\": \"https://www.travelandleisure.com/trip-ideas/national-parks/top-10-national-parks-in-the-us\", \"snippet\": \"Find out which national parks are the most popular and why, from Great Smoky Mountains to Yellowstone. See stunning photos, tips, and activities for each park.\"}, {\"title\": \"NEW: 10 MOST VISITED US National Parks (Complete List) 2023\", \"link\": \"https://morethanjustparks.com/most-visited-national-parks/\", \"snippet\": \"Yellowstone National Park made it back to the Top 5 Most Visited National Parks in the United States in 2023. After a dip due to those awful floods in 2022, the park had its second busiest year ever. Description. Ah, Yellowstone National Park, the national park that started it all, is the third most visited national park in America.\"}, {\"title\": \"25 Best National Parks in the USA to Visit In 2024 - Time Out\", \"link\": \"https://www.timeout.com/usa/things-to-do/best-national-parks-in-us\", \"snippet\": \"One of the country's more compact national parks, you don't need a ton of time to hit the highlights like Thor's Hammer, Inspiration Point, and the Queens Garden Trail. See local Airbnbs ...\"}, {\"title\": \"Best National Parks in the USA: 15 Amazing Parks for Your Bucket List\", \"link\": \"https://www.earthtrekkers.com/best-national-parks-in-the-usa/\", \"snippet\": \"Most Visited National Parks in the USA. Before we get started with the list of our favorite national parks, below are the top 10 most popular national parks in 2022. Here are the 10 most visited national parks in 2023, based on visitation numbers from the National Park Service: 1. Great Smoky Mountains National Park \\u2013 13.3 million visitors 2.\"}, {\"title\": \"20 BEST National Parks in the USA to Visit in 2023 (Bucket List)\", \"link\": \"https://morethanjustparks.com/best-national-parks-usa/\", \"snippet\": \"Here you\\u2019ll find the spectacular Teton mountains, the winding Snake River, gorgeous lakes and valleys, and some of the best wildlife viewing opportunities in the entire national park system. 3. Mount Rainier National Park. Mount Rainier National Park | Best National Parks USA. Location: Washington.\"}, {\"title\": \"25 Top-Rated National Parks in the USA | PlanetWare\", \"link\": \"https://www.planetware.com/usa/top-rated-national-parks-in-the-usa-us-az-239.htm\", \"snippet\": \"Glacier National Park has one of the most spectacular scenic drives in the United States: the Going-to-the-Sun Road. Built throughout the 1920s, the road opened in 1933 and has been an engineering marvel ever since. The road's 51 miles traverse the Continental Divide and provide stunning viewpoints at almost every turn.\"}, {\"title\": \"Go wild: these are the best U.S. national parks to suit every taste\", \"link\": \"https://www.nationalgeographic.com/travel/article/find-the-best-us-national-park-for-you\", \"snippet\": \"With options for hiking, natural wonders, wildlife and more, these are the best parks for every type of traveller. 1. Yellowstone National Park, Wyoming, Montana & Idaho. Few wild places capture ...\"}]\n\u001b[32m**********************************************************************\u001b[0m\n\n--------------------------------------------------------------------------------\n\u001b[32m\nNext speaker: summarizeagent\n\u001b[0m\n\u001b[33msummarizeagent\u001b[0m (to chat_manager):\n\nHere are the top 5 National Parks in the USA, along with a brief highlight of each park's main attraction:\n\n- **Yellowstone National Park**: Known as the first national park in the world, Yellowstone is famous for its geothermal features like the Old Faithful geyser, stunning landscapes, and diverse wildlife including bison, wolves, and bears.\n\n- **Yosemite National Park**: Located in California, Yosemite is renowned for its towering granite cliffs, waterfalls, clear streams, and giant sequoia trees. The park's iconic landmarks include Half Dome and El Capitan.\n\n- **Grand Canyon National Park**: This Arizona park is home to the immense Grand Canyon, a mile-deep gorge carved by the Colorado River. The park offers breathtaking vistas, hiking trails, and rafting opportunities.\n\n- **Zion National Park**: Situated in Utah, Zion is known for its Navajo sandstone cliffs, narrow slot canyons, and the Virgin River. Hiking the Narrows and Angel's Landing are among the park's most popular activities.\n\n- **Great Smoky Mountains National Park**: Straddling the border between North Carolina and Tennessee, this park is famous for its diverse plant and animal life, the beauty of its ancient mountains, and remnants of Southern Appalachian mountain culture.\n\nThese parks offer a glimpse into the natural beauty and diversity of the United States' landscapes and ecosystems.\n\n--------------------------------------------------------------------------------\n"
        },
        {
          "output_type": "stream",
          "name": "stderr",
          "text": "[runtime logging] log_function_use: autogen logger is None\n"
        }
      ],
      "execution_count": 33,
      "metadata": {
        "jupyter": {
          "source_hidden": false,
          "outputs_hidden": false
        },
        "nteract": {
          "transient": {
            "deleting": false
          }
        },
        "gather": {
          "logged": 1719265744741
        }
      }
    },
    {
      "cell_type": "markdown",
      "source": [
        "**Scenario # 2**  -AI Search agent is called to fetch data from enterprise data source, followed by summarizeagent as the ask can not be solved by in-house dataset "
      ],
      "metadata": {
        "nteract": {
          "transient": {
            "deleting": false
          }
        }
      }
    },
    {
      "cell_type": "code",
      "source": [
        "groupchat_result = user_proxy.initiate_chat(\n",
        "    manager,\n",
        "     message=\"\"\"Please provide me hotels with Waterfront View , summarize the answer by just giving the hotel name and brief overview\"\"\",\n",
        ")"
      ],
      "outputs": [
        {
          "output_type": "stream",
          "name": "stdout",
          "text": "\u001b[33mUser\u001b[0m (to chat_manager):\n\nPlease provide me hotels with Waterfront View , summarize the answer by just giving the hotel name and brief overview\n\n--------------------------------------------------------------------------------\n\u001b[32m\nNext speaker: COGSearch\n\u001b[0m\n\u001b[33mCOGSearch\u001b[0m (to chat_manager):\n\n\u001b[32m***** Suggested tool call (call_IJ82lnkCVYqOFH31alCtr4zl): search *****\u001b[0m\nArguments: \n{\"query\":\"Waterfront View\"}\n\u001b[32m***********************************************************************\u001b[0m\n\n--------------------------------------------------------------------------------\n\u001b[32m\nNext speaker: User\n\u001b[0m\n\u001b[35m\n>>>>>>>> EXECUTING FUNCTION search...\u001b[0m\n\u001b[33mUser\u001b[0m (to chat_manager):\n\n\u001b[33mUser\u001b[0m (to chat_manager):\n\n\u001b[32m***** Response from calling tool (call_IJ82lnkCVYqOFH31alCtr4zl) *****\u001b[0m\n[{\"Rooms\": [{\"Description\": \"Standard Room, 1 Queen Bed (Cityside)\"}, {\"Description\": \"Budget Room, 2 Queen Beds (Cityside)\"}, {\"Description\": \"Standard Room, 2 Double Beds (Waterfront View)\"}, {\"Description\": \"Suite, 1 Queen Bed (Waterfront View)\"}, {\"Description\": \"Deluxe Room, 1 King Bed (Amenities)\"}, {\"Description\": \"Suite, 1 King Bed (City View)\"}, {\"Description\": \"Standard Room, 2 Queen Beds (City View)\"}, {\"Description\": \"Deluxe Room, 1 King Bed (Amenities)\"}, {\"Description\": \"Deluxe Room, 2 Queen Beds (Cityside)\"}, {\"Description\": \"Budget Room, 1 Queen Bed (City View)\"}, {\"Description\": \"Standard Room, 1 King Bed (City View)\"}, {\"Description\": \"Deluxe Room, 1 Queen Bed (City View)\"}, {\"Description\": \"Budget Room, 1 Queen Bed (Mountain View)\"}, {\"Description\": \"Suite, 2 Double Beds (Cityside)\"}], \"Address\": {\"StreetAddress\": \"5426 Bay Center Dr\", \"City\": \"Tampa\", \"StateProvince\": \"FL\", \"PostalCode\": \"33609\", \"Country\": \"USA\"}, \"HotelName\": \"Oceanside Resort\", \"@search.score\": 5.483421, \"@search.reranker_score\": 2.2517616748809814, \"@search.highlights\": null, \"@search.captions\": null}, {\"Rooms\": [{\"Description\": \"Budget Room, 2 Double Beds (Waterfront View)\"}, {\"Description\": \"Suite, 2 Queen Beds (Amenities)\"}, {\"Description\": \"Deluxe Room, 1 Queen Bed (Waterfront View)\"}, {\"Description\": \"Deluxe Room, 2 Double Beds (Cityside)\"}, {\"Description\": \"Budget Room, 1 Queen Bed (City View)\"}, {\"Description\": \"Budget Room, 2 Queen Beds (Mountain View)\"}, {\"Description\": \"Standard Room, 2 Queen Beds (Cityside)\"}, {\"Description\": \"Suite, 1 Queen Bed (Amenities)\"}, {\"Description\": \"Suite, 2 Queen Beds (Cityside)\"}, {\"Description\": \"Suite, 1 Queen Bed (Waterfront View)\"}, {\"Description\": \"Deluxe Room, 2 Queen Beds (Amenities)\"}, {\"Description\": \"Deluxe Room, 2 Double Beds (City View)\"}, {\"Description\": \"Suite, 1 King Bed (Mountain View)\"}, {\"Description\": \"Budget Room, 2 Double Beds (Amenities)\"}, {\"Description\": \"Deluxe Room, 2 Double Beds (Amenities)\"}, {\"Description\": \"Standard Room, 2 Queen Beds (Amenities)\"}], \"Address\": {\"StreetAddress\": \"1500 New Britain Ave\", \"City\": \"West Hartford\", \"StateProvince\": \"CT\", \"PostalCode\": \"06110\", \"Country\": \"USA\"}, \"HotelName\": \"Cap'n Jack's Waterfront Inn\", \"@search.score\": 1.7450407, \"@search.reranker_score\": 2.0401461124420166, \"@search.highlights\": null, \"@search.captions\": null}, {\"Rooms\": [{\"Description\": \"Suite, 2 Queen Beds (City View)\"}, {\"Description\": \"Budget Room, 1 Queen Bed (City View)\"}, {\"Description\": \"Deluxe Room, 2 Queen Beds (Mountain View)\"}, {\"Description\": \"Suite, 1 King Bed (Amenities)\"}, {\"Description\": \"Deluxe Room, 1 King Bed (Waterfront View)\"}, {\"Description\": \"Standard Room, 1 King Bed (Cityside)\"}, {\"Description\": \"Budget Room, 2 Double Beds (Cityside)\"}, {\"Description\": \"Standard Room, 1 King Bed (Mountain View)\"}, {\"Description\": \"Budget Room, 2 Double Beds (Amenities)\"}, {\"Description\": \"Suite, 1 King Bed (Cityside)\"}, {\"Description\": \"Standard Room, 1 Queen Bed (Amenities)\"}, {\"Description\": \"Deluxe Room, 1 Queen Bed (City View)\"}, {\"Description\": \"Standard Room, 1 Queen Bed (Amenities)\"}], \"Address\": {\"StreetAddress\": \"20 W Kinzie St\", \"City\": \"Chicago\", \"StateProvince\": \"IL\", \"PostalCode\": \"60654\", \"Country\": \"USA\"}, \"HotelName\": \"Lady Of The Lake B & B\", \"@search.score\": 1.3960227, \"@search.reranker_score\": 1.8530943393707275, \"@search.highlights\": null, \"@search.captions\": null}, {\"Rooms\": [{\"Description\": \"Standard Room, 1 Queen Bed (City View)\"}, {\"Description\": \"Standard Room, 1 Queen Bed (Waterfront View)\"}, {\"Description\": \"Budget Room, 2 Double Beds (Cityside)\"}, {\"Description\": \"Deluxe Room, 1 Queen Bed (Waterfront View)\"}, {\"Description\": \"Budget Room, 2 Double Beds (Cityside)\"}, {\"Description\": \"Standard Room, 1 Queen Bed (Waterfront View)\"}, {\"Description\": \"Suite, 1 King Bed (Mountain View)\"}, {\"Description\": \"Standard Room, 1 King Bed (Waterfront View)\"}, {\"Description\": \"Suite, 2 Queen Beds (Mountain View)\"}, {\"Description\": \"Suite, 1 Queen Bed (Mountain View)\"}, {\"Description\": \"Budget Room, 1 King Bed (City View)\"}, {\"Description\": \"Suite, 1 Queen Bed (Cityside)\"}, {\"Description\": \"Suite, 2 Queen Beds (Cityside)\"}, {\"Description\": \"Standard Room, 2 Double Beds (Amenities)\"}, {\"Description\": \"Suite, 2 Queen Beds (Waterfront View)\"}, {\"Description\": \"Standard Room, 2 Queen Beds (Amenities)\"}, {\"Description\": \"Deluxe Room, 1 Queen Bed (Waterfront View)\"}, {\"Description\": \"Budget Room, 2 Queen Beds (City View)\"}, {\"Description\": \"Deluxe Room, 1 King Bed (Cityside)\"}, {\"Description\": \"Standard Room, 1 King Bed (Cityside)\"}], \"Address\": {\"StreetAddress\": \"550 Kirkland Way\", \"City\": \"Kirkland\", \"StateProvince\": \"WA\", \"PostalCode\": \"98033\", \"Country\": \"USA\"}, \"HotelName\": \"Days Hotel\", \"@search.score\": 1.7753472, \"@search.reranker_score\": 1.7449065446853638, \"@search.highlights\": null, \"@search.captions\": null}]\n\u001b[32m**********************************************************************\u001b[0m\n\n--------------------------------------------------------------------------------\n\u001b[32m\nNext speaker: summarizeagent\n\u001b[0m\n\u001b[33msummarizeagent\u001b[0m (to chat_manager):\n\n- **Oceanside Resort**\n  - Located in Tampa, FL, offers rooms with waterfront views including \"Standard Room, 2 Double Beds (Waterfront View)\" and \"Suite, 1 Queen Bed (Waterfront View)\".\n\n- **Cap'n Jack's Waterfront Inn**\n  - Situated in West Hartford, CT, features rooms like \"Budget Room, 2 Double Beds (Waterfront View)\" and \"Deluxe Room, 1 Queen Bed (Waterfront View)\".\n\n- **Lady Of The Lake B & B**\n  - Based in Chicago, IL, provides \"Deluxe Room, 1 King Bed (Waterfront View)\" among its waterfront view options.\n\n- **Days Hotel**\n  - Located in Kirkland, WA, offers multiple waterfront view rooms such as \"Standard Room, 1 Queen Bed (Waterfront View)\" and \"Deluxe Room, 1 Queen Bed (Waterfront View)\".\n\nTERMINATE\n\n--------------------------------------------------------------------------------\n"
        },
        {
          "output_type": "stream",
          "name": "stderr",
          "text": "[runtime logging] log_function_use: autogen logger is None\n"
        }
      ],
      "execution_count": 34,
      "metadata": {
        "jupyter": {
          "source_hidden": false,
          "outputs_hidden": false
        },
        "nteract": {
          "transient": {
            "deleting": false
          }
        },
        "gather": {
          "logged": 1719265751814
        }
      }
    },
    {
      "cell_type": "code",
      "source": [],
      "outputs": [],
      "execution_count": null,
      "metadata": {
        "jupyter": {
          "source_hidden": false,
          "outputs_hidden": false
        },
        "nteract": {
          "transient": {
            "deleting": false
          }
        }
      }
    },
    {
      "cell_type": "markdown",
      "source": [
        "In previous example we allowed all agents to agents communication, now I am putting a path as per my business rules and use case, please feel free to comment any agent to agent path and execute the \"visualize...\" code block to see how the agents transitions can be governed."
      ],
      "metadata": {
        "nteract": {
          "transient": {
            "deleting": false
          }
        }
      }
    },
    {
      "cell_type": "code",
      "source": [
        "allowed_speaker_transitions_dict_hub_and_spoke = {\n",
        "    agents[0]: [agents[1], agents[2],agents[3]],\n",
        "    #agents[1]: [agents[0]],\n",
        "    agents[2]: [agents[0]],\n",
        "    agents[3]: [agents[0]],\n",
        "}\n"
      ],
      "outputs": [],
      "execution_count": 35,
      "metadata": {
        "jupyter": {
          "source_hidden": false,
          "outputs_hidden": false
        },
        "nteract": {
          "transient": {
            "deleting": false
          }
        },
        "gather": {
          "logged": 1719265751979
        }
      }
    },
    {
      "cell_type": "code",
      "source": [
        "value = visualize_speaker_transitions_dict(allowed_speaker_transitions_dict_hub_and_spoke, agents)"
      ],
      "outputs": [
        {
          "output_type": "display_data",
          "data": {
            "text/plain": "<Figure size 640x480 with 1 Axes>",
            "image/png": "[encoded data removed]"
          },
          "metadata": {}
        }
      ],
      "execution_count": 36,
      "metadata": {
        "jupyter": {
          "source_hidden": false,
          "outputs_hidden": false
        },
        "nteract": {
          "transient": {
            "deleting": false
          }
        },
        "gather": {
          "logged": 1719265752176
        }
      }
    },
    {
      "cell_type": "code",
      "source": [],
      "outputs": [],
      "execution_count": null,
      "metadata": {
        "jupyter": {
          "source_hidden": false,
          "outputs_hidden": false
        },
        "nteract": {
          "transient": {
            "deleting": false
          }
        }
      }
    },
    {
      "cell_type": "code",
      "source": [],
      "outputs": [],
      "execution_count": null,
      "metadata": {
        "jupyter": {
          "source_hidden": false,
          "outputs_hidden": false
        },
        "nteract": {
          "transient": {
            "deleting": false
          }
        }
      }
    }
  ],
  "metadata": {
    "front_matter": {
      "description": "This notebook demonstrates the use of Assistant Agents in conjunction with Azure Cognitive Search and Azure Identity",
      "tags": [
        "RAG",
        "Azure Identity",
        "Azure AI Search"
      ]
    },
    "kernelspec": {
      "name": "python310-sdkv2",
      "language": "python",
      "display_name": "Python 3.10 - SDK v2"
    },
    "language_info": {
      "name": "python",
      "version": "3.10.14",
      "mimetype": "text/x-python",
      "codemirror_mode": {
        "name": "ipython",
        "version": 3
      },
      "pygments_lexer": "ipython3",
      "nbconvert_exporter": "python",
      "file_extension": ".py"
    },
    "skip_test": "This requires Azure AI Search to be enabled and creds for AI Search from Azure Portal",
    "microsoft": {
      "ms_spell_check": {
        "ms_spell_check_language": "en"
      },
      "host": {
        "AzureML": {
          "notebookHasBeenCompleted": true
        }
      }
    },
    "kernel_info": {
      "name": "python310-sdkv2"
    },
    "nteract": {
      "version": "nteract-front-end@1.0.0"
    }
  },
  "nbformat": 4,
  "nbformat_minor": 2
}