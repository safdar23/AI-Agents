{
  "cells": [
    {
      "attachments": {},
      "cell_type": "markdown",
      "source": [
        "# Create a search index in Azure AI Search using the Azure SDK for Python"
      ],
      "metadata": {}
    },
    {
      "attachments": {},
      "cell_type": "markdown",
      "source": [
        "This notebook steps through creating, loading, and querying an index in Azure AI Search index by calling the azure-search-documents library in the Azure SDK for Python. "
      ],
      "metadata": {}
    },
    {
      "cell_type": "markdown",
      "source": [
        "## Install packages and set variables"
      ],
      "metadata": {}
    },
    {
      "cell_type": "code",
      "source": [
        "%pip install azure-search-documents --quiet\n",
        "%pip install azure-identity --quiet\n",
        "%pip install python-dotenv --quiet"
      ],
      "outputs": [
        {
          "output_type": "stream",
          "name": "stdout",
          "text": "Note: you may need to restart the kernel to use updated packages.\nNote: you may need to restart the kernel to use updated packages.\nNote: you may need to restart the kernel to use updated packages.\n"
        }
      ],
      "execution_count": 5,
      "metadata": {}
    },
    {
      "cell_type": "code",
      "source": [
        "import os\n",
        "from pathlib import Path\n",
        "from dotenv import load_dotenv\n",
        "dotenv_path = Path('azure.env')\n",
        "load_dotenv(dotenv_path=dotenv_path)\n",
        "\n",
        "# Import Cognitive Search index ENV\n",
        "AZURE_SEARCH_INDEX = os.getenv(\"AZURE_SEARCH_INDEX\")\n",
        "AZURE_SEARCH_KEY = os.getenv(\"AZURE_SEARCH_KEY\")\n",
        "AZURE_SEARCH_SEMANTIC_SEARCH_CONFIG = os.getenv(\"AZURE_SEARCH_SEMANTIC_SEARCH_CONFIG\")\n",
        "AZURE_SEARCH_SERVICE_ENDPOINT = os.getenv(\"AZURE_SEARCH_SERVICE_ENDPOINT\")\n"
      ],
      "outputs": [],
      "execution_count": 14,
      "metadata": {
        "jupyter": {
          "source_hidden": false,
          "outputs_hidden": false
        },
        "nteract": {
          "transient": {
            "deleting": false
          }
        },
        "gather": {
          "logged": 1719265686675
        }
      }
    },
    {
      "cell_type": "code",
      "source": [
        "# Provide variables\n",
        "search_endpoint: str = AZURE_SEARCH_SERVICE_ENDPOINT\n",
        "search_api_key: str = AZURE_SEARCH_KEY\n",
        "index_name: str = AZURE_SEARCH_INDEX\n",
        "semantic_serach_config: str =AZURE_SEARCH_SEMANTIC_SEARCH_CONFIG\n",
        "\n",
        "\n"
      ],
      "outputs": [],
      "execution_count": 15,
      "metadata": {
        "gather": {
          "logged": 1719265686877
        }
      }
    },
    {
      "cell_type": "markdown",
      "source": [
        "## Create a Complex type index, Semantic Configuration and suggester profile with nested JSON  "
      ],
      "metadata": {}
    },
    {
      "cell_type": "code",
      "source": [
        "from azure.core.credentials import AzureKeyCredential\n",
        "\n",
        "credential = AzureKeyCredential(search_api_key)\n",
        "\n",
        "from azure.search.documents.indexes import SearchIndexClient\n",
        "from azure.search.documents import SearchClient\n",
        "from azure.search.documents.indexes.models import (\n",
        "    ComplexField,\n",
        "    SimpleField,\n",
        "    SearchFieldDataType,\n",
        "    SearchableField,\n",
        "    SearchIndex,SemanticConfiguration,\n",
        "    SemanticPrioritizedFields,\n",
        "    SemanticField,\n",
        "    SemanticSearch\n",
        ")\n",
        "\n",
        "\n",
        "# Create a search schema\n",
        "index_client = SearchIndexClient(\n",
        "    endpoint=search_endpoint, credential=credential)\n",
        "fields = [\n",
        "        SimpleField(name=\"HotelId\", type=SearchFieldDataType.String, key=True),\n",
        "        SearchableField(name=\"HotelName\", type=SearchFieldDataType.String, sortable=True),\n",
        "        SearchableField(name=\"Description\", type=SearchFieldDataType.String, analyzer_name=\"en.lucene\"),\n",
        "        SearchableField(name=\"Description_fr\", type=SearchFieldDataType.String, analyzer_name=\"fr.lucene\"),\n",
        "        SearchableField(name=\"Category\", type=SearchFieldDataType.String, facetable=True, filterable=True, sortable=True),\n",
        "\n",
        "        SearchableField(name=\"Tags\", collection=True, type=SearchFieldDataType.String, facetable=True, filterable=True),\n",
        "\n",
        "        SimpleField(name=\"ParkingIncluded\", type=SearchFieldDataType.Boolean, facetable=True, filterable=True, sortable=True),\n",
        "        SimpleField(name=\"LastRenovationDate\", type=SearchFieldDataType.DateTimeOffset, facetable=True, filterable=True, sortable=True),\n",
        "        SimpleField(name=\"Rating\", type=SearchFieldDataType.Double, facetable=True, filterable=True, sortable=True),\n",
        "        SimpleField(name=\"Location\", type=SearchFieldDataType.GeographyPoint, facetable=False, filterable=False, sortable=False),\n",
        "\n",
        "        ComplexField(name=\"Address\", fields=[\n",
        "            SearchableField(name=\"StreetAddress\", type=SearchFieldDataType.String),\n",
        "            SearchableField(name=\"City\", type=SearchFieldDataType.String, facetable=True, filterable=True, sortable=True),\n",
        "            SearchableField(name=\"StateProvince\", type=SearchFieldDataType.String, facetable=True, filterable=True, sortable=True),\n",
        "            SearchableField(name=\"PostalCode\", type=SearchFieldDataType.String, facetable=True, filterable=True, sortable=True),\n",
        "            SearchableField(name=\"Country\", type=SearchFieldDataType.String, facetable=True, filterable=True, sortable=True),\n",
        "        ]) ,\n",
        "\n",
        "        ComplexField(name=\"Rooms\", fields=[\n",
        "            SearchableField(name=\"Description\", type=SearchFieldDataType.String),\n",
        "            SearchableField(name=\"Description_fr\", type=SearchFieldDataType.String, facetable=False, filterable=False, sortable=False),\n",
        "            SearchableField(name=\"Type\", type=SearchFieldDataType.String, facetable=False, filterable=False, sortable=False),\n",
        "            SimpleField(name=\"BaseRate\", type=SearchFieldDataType.Double, facetable=True, filterable=True),\n",
        "            SearchableField(name=\"BedOptions\", type=SearchFieldDataType.Int64, facetable=False, filterable=False, sortable=False),\n",
        "            SimpleField(name=\"SleepsCount\", type=SearchFieldDataType.Int64, facetable=False, filterable=False,),\n",
        "            SimpleField(name=\"SmokingAllowed\", type=SearchFieldDataType.Boolean, facetable=False, filterable=False),\n",
        "            SearchableField(name=\"Tags\", collection=True, type=SearchFieldDataType.String, facetable=False, filterable=False, sortable=False),\n",
        "\n",
        "\n",
        "\n",
        "\n",
        "        ],\n",
        "        collection=True,\n",
        "        )\n",
        "    ]\n",
        "\n",
        "scoring_profiles = []\n",
        "suggester = [{'name': 'sg', 'source_fields': ['Tags', 'Address/City', 'Address/Country']}]\n",
        "\n",
        "\n",
        "semantic_config = SemanticConfiguration(\n",
        "    name=AZURE_SEARCH_SEMANTIC_SEARCH_CONFIG,\n",
        "    prioritized_fields=SemanticPrioritizedFields(\n",
        "        title_field=SemanticField(field_name=\"HotelName\"),\n",
        "        keywords_fields=[SemanticField(field_name=\"Description\")],\n",
        "        content_fields=[SemanticField(field_name=\"Description\")]\n",
        "    )\n",
        ")\n",
        "# Create the semantic settings with the configuration\n",
        "semantic_search = SemanticSearch(configurations=[semantic_config])\n",
        "\n",
        "semantic_settings = SemanticSearch(configurations=[semantic_config])\n",
        "# Create the search index=\n",
        "index = SearchIndex(name=index_name, fields=fields, suggesters=suggester, scoring_profiles=scoring_profiles,semantic_search=semantic_search)\n",
        "result = index_client.create_or_update_index(index)\n",
        "print(f' {result.name} created')"
      ],
      "outputs": [],
      "execution_count": null,
      "metadata": {
        "gather": {
          "logged": 1719265687564
        }
      }
    },
    {
      "attachments": {},
      "cell_type": "markdown",
      "source": [
        "## Read the JSON file"
      ],
      "metadata": {}
    },
    {
      "cell_type": "code",
      "source": [
        "import json\n",
        "with open(\"HotelsData_toAzureSearch.JSON\") as user_file:\n",
        "    file_contents = user_file.read()\n",
        "    parsed_json = json.loads(file_contents)"
      ],
      "outputs": [],
      "execution_count": null,
      "metadata": {
        "jupyter": {
          "source_hidden": false,
          "outputs_hidden": false
        },
        "nteract": {
          "transient": {
            "deleting": false
          }
        },
        "gather": {
          "logged": 1719265687869
        }
      }
    },
    {
      "cell_type": "markdown",
      "source": [
        "## Upload the documents from the JSON file"
      ],
      "metadata": {}
    },
    {
      "cell_type": "code",
      "source": [
        "search_client = SearchClient(endpoint=search_endpoint,\n",
        "                      index_name=index_name,\n",
        "                      credential=credential)\n",
        "try:\n",
        "    result = search_client.upload_documents(documents=parsed_json)\n",
        "    print(\"Upload of new document succeeded: {}\".format(result[0].succeeded))\n",
        "except Exception as ex:\n",
        "    print (ex.message)\n",
        "\n",
        "    index_client = SearchIndexClient(\n",
        "    endpoint=search_endpoint, credential=credential)"
      ],
      "outputs": [],
      "execution_count": null,
      "metadata": {
        "gather": {
          "logged": 1719265688169
        }
      }
    },
    {
      "cell_type": "markdown",
      "source": [
        "**Note:** \n",
        "\n",
        "**1 .** After the \"Upload of new document succeeded: True\" message, you can execute the \"Autogen-multi-agentchat.ipynb\" notebook to see the agent execution on our created index.\n",
        "\n",
        "**2 .** Optionally, you can run the below code blocks to run the search queries on the created index"
      ],
      "metadata": {
        "nteract": {
          "transient": {
            "deleting": false
          }
        }
      }
    },
    {
      "attachments": {},
      "cell_type": "markdown",
      "source": [
        "## Run a query"
      ],
      "metadata": {}
    },
    {
      "cell_type": "code",
      "source": [
        "# Run a term query\n",
        "results =  search_client.search(query_type='simple',\n",
        "    search_text=\"wifi\" ,\n",
        "    select='HotelName,Description,Tags',\n",
        "    include_total_count=True)\n",
        "\n",
        "print ('Total Documents Matching Query:', results.get_count())\n",
        "for result in results:\n",
        "    print(result[\"@search.score\"])\n",
        "    print(result[\"HotelName\"])\n",
        "    print(f\"Description: {result['Description']}\")"
      ],
      "outputs": [],
      "execution_count": null,
      "metadata": {
        "gather": {
          "logged": 1719265688470
        }
      }
    },
    {
      "attachments": {},
      "cell_type": "markdown",
      "source": [
        "## Add a filter"
      ],
      "metadata": {}
    },
    {
      "cell_type": "code",
      "source": [
        "# Add a filter\n",
        "results = search_client.search(\n",
        "    search_text=\"hotels\", \n",
        "    select='HotelId,HotelName,Rating', \n",
        "    filter='Rating gt 4', \n",
        "    order_by='Rating desc')\n",
        "\n",
        "for result in results:\n",
        "    print(\"{}: {} - {} rating\".format(result[\"HotelId\"], result[\"HotelName\"], result[\"Rating\"]))"
      ],
      "outputs": [],
      "execution_count": null,
      "metadata": {
        "gather": {
          "logged": 1719265688672
        }
      }
    },
    {
      "attachments": {},
      "cell_type": "markdown",
      "source": [
        "## Scope a query to specific searchable fields"
      ],
      "metadata": {}
    },
    {
      "cell_type": "code",
      "source": [
        "results = search_client.search(\n",
        "    search_text=\"sublime\", \n",
        "    search_fields=['HotelName'], \n",
        "    select='HotelId,HotelName')\n",
        "\n",
        "for result in results:\n",
        "    print(\"{}: {}\".format(result[\"HotelId\"], result[\"HotelName\"]))"
      ],
      "outputs": [],
      "execution_count": null,
      "metadata": {
        "gather": {
          "logged": 1719265688864
        }
      }
    },
    {
      "attachments": {},
      "cell_type": "markdown",
      "source": [
        "## Return facets"
      ],
      "metadata": {}
    },
    {
      "cell_type": "code",
      "source": [
        "# Return facets\n",
        "results = search_client.search(search_text=\"*\", facets=[\"Category\"])\n",
        "\n",
        "facets = results.get_facets()\n",
        "\n",
        "for facet in facets[\"Category\"]:\n",
        "    print(\"    {}\".format(facet))"
      ],
      "outputs": [],
      "execution_count": null,
      "metadata": {
        "gather": {
          "logged": 1719265689207
        }
      }
    },
    {
      "attachments": {},
      "cell_type": "markdown",
      "source": [
        "## Look up a document "
      ],
      "metadata": {}
    },
    {
      "cell_type": "code",
      "source": [
        "# Look up a specific document by ID\n",
        "result = search_client.get_document(key=\"31\")\n",
        "\n",
        "print(\"Details for hotel '31' are:\")\n",
        "print(\"Name: {}\".format(result[\"HotelName\"]))\n",
        "print(\"Rating: {}\".format(result[\"Rating\"]))\n",
        "print(\"Category: {}\".format(result[\"Category\"]))"
      ],
      "outputs": [],
      "execution_count": null,
      "metadata": {
        "gather": {
          "logged": 1719265689856
        }
      }
    },
    {
      "attachments": {},
      "cell_type": "markdown",
      "source": [
        "## Autocomplete a query"
      ],
      "metadata": {}
    },
    {
      "cell_type": "code",
      "source": [
        "# Autocomplete a query\n",
        "search_suggestion = 'sa'\n",
        "results = search_client.autocomplete(\n",
        "    search_text=search_suggestion, \n",
        "    suggester_name=\"sg\",\n",
        "    mode='twoTerms')\n",
        "\n",
        "print(\"Autocomplete for:\", search_suggestion)\n",
        "for result in results:\n",
        "    print (result['text'])"
      ],
      "outputs": [],
      "execution_count": null,
      "metadata": {
        "gather": {
          "logged": 1719265690239
        }
      }
    }
  ],
  "metadata": {
    "kernelspec": {
      "name": "python310-sdkv2",
      "language": "python",
      "display_name": "Python 3.10 - SDK v2"
    },
    "language_info": {
      "name": "python",
      "version": "3.10.14",
      "mimetype": "text/x-python",
      "codemirror_mode": {
        "name": "ipython",
        "version": 3
      },
      "pygments_lexer": "ipython3",
      "nbconvert_exporter": "python",
      "file_extension": ".py"
    },
    "vscode": {
      "interpreter": {
        "hash": "9ff083f0c83558f9261023d47a77b9b3eb892c62cdbe066d046abcad1a5edb5c"
      }
    },
    "microsoft": {
      "ms_spell_check": {
        "ms_spell_check_language": "en"
      },
      "host": {
        "AzureML": {
          "notebookHasBeenCompleted": true
        }
      }
    },
    "kernel_info": {
      "name": "python310-sdkv2"
    },
    "nteract": {
      "version": "nteract-front-end@1.0.0"
    }
  },
  "nbformat": 4,
  "nbformat_minor": 2
}